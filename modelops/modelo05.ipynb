{
 "cells": [
  {
   "cell_type": "code",
   "execution_count": 0,
   "metadata": {
    "application/vnd.databricks.v1+cell": {
     "cellMetadata": {
      "byteLimit": 2048000,
      "rowLimit": 10000
     },
     "inputWidgets": {},
     "nuid": "7d4cd5cb-de4c-45a0-b0a4-1940feeca7a2",
     "showTitle": false,
     "tableResultSettingsMap": {},
     "title": ""
    }
   },
   "outputs": [],
   "source": [
    "from pyspark.sql.functions import col\n",
    "from databricks.feature_store import FeatureStoreClient"
   ]
  },
  {
   "cell_type": "code",
   "execution_count": 0,
   "metadata": {
    "application/vnd.databricks.v1+cell": {
     "cellMetadata": {
      "byteLimit": 2048000,
      "rowLimit": 10000
     },
     "inputWidgets": {},
     "nuid": "803926ab-b32c-4aa1-80c5-88bd4b96b432",
     "showTitle": false,
     "tableResultSettingsMap": {},
     "title": ""
    }
   },
   "outputs": [],
   "source": [
    "# 1. Leer la base consolidada y hacer un muestreo\n",
    "base_consolidada = spark.table(\"databricks_clase.prueba_schema.base_consolidada_v2\")"
   ]
  },
  {
   "cell_type": "code",
   "execution_count": 0,
   "metadata": {
    "application/vnd.databricks.v1+cell": {
     "cellMetadata": {
      "byteLimit": 2048000,
      "rowLimit": 10000
     },
     "inputWidgets": {},
     "nuid": "513c2c9f-89cd-422e-a73f-aa2398e0b9ec",
     "showTitle": false,
     "tableResultSettingsMap": {},
     "title": ""
    }
   },
   "outputs": [],
   "source": [
    "# Ejemplo: tomar el 10% de los registros (puedes ajustar la fracción o utilizar .limit(n) si prefieres)\n",
    "df_sample = base_consolidada.sample(fraction=0.1, seed=42)"
   ]
  },
  {
   "cell_type": "code",
   "execution_count": 0,
   "metadata": {
    "application/vnd.databricks.v1+cell": {
     "cellMetadata": {
      "byteLimit": 2048000,
      "rowLimit": 10000
     },
     "inputWidgets": {},
     "nuid": "c7a766be-d819-4cbb-8585-b1ce74ce6425",
     "showTitle": false,
     "tableResultSettingsMap": {},
     "title": ""
    }
   },
   "outputs": [
    {
     "output_type": "stream",
     "name": "stdout",
     "output_type": "stream",
     "text": [
      "+-------+----------+------------------+-------+-------------+-------------+-------------+----------------+------------+-------------+-----------+----------------+--------+------+-----------------+-----------------+------------------+------------------+------------------+-----------------+--------------------+------------------+------------------+--------------------+-------------+-------------+-------------+----------------+----------------+----------------+---------+-------------------+--------------------+\n|periodo|id_cliente|tiempo_permanencia|flg_vip|incidencias_a|incidencias_b|tipo_producto|periodo_creacion|departamento|segmento_pago|      canal|segmento_cliente|crossell|  tasa|         monto_1m|         monto_2m|          monto_3m|          monto_4m|          monto_5m|         monto_6m|         cantidad_1m|       cantidad_2m|       cantidad_3m|         cantidad_6m|frecuencia_1m|frecuencia_2m|frecuencia_3m|ultima_compra_1m|ultima_compra_2m|ultima_compra_3m|flg_churn|        monto_total|     tendencia_monto|\n+-------+----------+------------------+-------+-------------+-------------+-------------+----------------+------------+-------------+-----------+----------------+--------+------+-----------------+-----------------+------------------+------------------+------------------+-----------------+--------------------+------------------+------------------+--------------------+-------------+-------------+-------------+----------------+----------------+----------------+---------+-------------------+--------------------+\n| 202401|       124|                 9|    0.0|          0.0|          0.0|  Desconocido|          202401| Desconocido|           -1|Desconocido|              -1|     0.0|0.0344|6.190827569961601|6.899975091763956| 6.667999505739367| 8.067744847356499| 6.795370148499241|7.540594974985435|  1.3862943861198904|1.7917594858947217|1.9459101633410276|   2.772588728489781|          3.0|          5.0|          6.0|            12.0|            28.0|            29.0|      0.0|   42.1625121383061| -0.1790001199509381|\n| 202401|       606|                19|    0.0|          0.0|          0.0|  Desconocido|          202401| Desconocido|           -1|Desconocido|              -1|     0.0|0.0344|4.596633855974378|7.341470890581166|-16.11809565095832|3.6109179153469273|-16.11809565095832|4.961445050605764|9.999999505838704E-8| 0.693147230559944|-16.11809565095832|9.999999505838704E-8|          1.0|          2.0|          0.0|             8.0|            20.0|             0.0|      1.0|-11.725723589408403|-0.07352922201301912|\n+-------+----------+------------------+-------+-------------+-------------+-------------+----------------+------------+-------------+-----------+----------------+--------+------+-----------------+-----------------+------------------+------------------+------------------+-----------------+--------------------+------------------+------------------+--------------------+-------------+-------------+-------------+----------------+----------------+----------------+---------+-------------------+--------------------+\nonly showing top 2 rows\n"
     ]
    }
   ],
   "source": [
    "df_sample.show(2)"
   ]
  },
  {
   "cell_type": "code",
   "execution_count": 0,
   "metadata": {
    "application/vnd.databricks.v1+cell": {
     "cellMetadata": {
      "byteLimit": 2048000,
      "rowLimit": 10000
     },
     "inputWidgets": {},
     "nuid": "d6969849-5a5e-4051-88f8-0305e5c1461c",
     "showTitle": false,
     "tableResultSettingsMap": {},
     "title": ""
    }
   },
   "outputs": [],
   "source": [
    "# 2. Leer la tabla de features del Feature Store (offline)\n",
    "fs = FeatureStoreClient()\n",
    "# Tabla de features mensuales (offline)\n",
    "features_df1 = fs.read_table(name=\"databricks_clase.prueba_schema.base_consolidada_mensual_feats_v2\")\n",
    "\n",
    "# Tabla de features históricos (por ejemplo, con promedio y máximo)\n",
    "features_df2 = fs.read_table(name=\"databricks_clase.prueba_schema.historico_feats\")\n",
    "\n",
    "# 3. Unir las dos tablas de Feature Store usando la clave primaria 'id_cliente'\n",
    "features_joined = features_df1.join(features_df2, on=\"id_cliente\", how=\"inner\")\n",
    "\n",
    "# 4. Unir el muestreo de la base consolidada con la unión de features\n",
    "data_enriquecida = df_sample.select('id_cliente').join(features_joined, on=\"id_cliente\", how=\"left\")\n",
    "\n",
    "# Convertir a Pandas para usar con scikit-learn (o trabajar en Spark si tu modelo lo permite)\n",
    "data_pd = data_enriquecida.toPandas()\n",
    "\n",
    "# Definir las columnas de features a utilizar para la inferencia (incluye features mensuales e históricos)\n",
    "feature_list = [\n",
    "    \"frecuencia_1m\", \"cantidad_1m\", \"tasa\", \"ultima_compra_1m\", \"monto_total\", \n",
    "    \"avg_monto\", \"max_monto\"\n",
    "]\n",
    "X_batch = data_pd[feature_list]"
   ]
  },
  {
   "cell_type": "code",
   "execution_count": 0,
   "metadata": {
    "application/vnd.databricks.v1+cell": {
     "cellMetadata": {
      "byteLimit": 2048000,
      "rowLimit": 10000
     },
     "inputWidgets": {},
     "nuid": "41f467b9-e905-4c2a-beff-1eafccc91bf1",
     "showTitle": false,
     "tableResultSettingsMap": {},
     "title": ""
    }
   },
   "outputs": [
    {
     "output_type": "execute_result",
     "data": {
      "text/html": [
       "<div>\n",
       "<style scoped>\n",
       "    .dataframe tbody tr th:only-of-type {\n",
       "        vertical-align: middle;\n",
       "    }\n",
       "\n",
       "    .dataframe tbody tr th {\n",
       "        vertical-align: top;\n",
       "    }\n",
       "\n",
       "    .dataframe thead th {\n",
       "        text-align: right;\n",
       "    }\n",
       "</style>\n",
       "<table border=\"1\" class=\"dataframe\">\n",
       "  <thead>\n",
       "    <tr style=\"text-align: right;\">\n",
       "      <th></th>\n",
       "      <th>frecuencia_1m</th>\n",
       "      <th>cantidad_1m</th>\n",
       "      <th>tasa</th>\n",
       "      <th>ultima_compra_1m</th>\n",
       "      <th>monto_total</th>\n",
       "      <th>avg_monto</th>\n",
       "      <th>max_monto</th>\n",
       "    </tr>\n",
       "  </thead>\n",
       "  <tbody>\n",
       "    <tr>\n",
       "      <th>0</th>\n",
       "      <td>8.0</td>\n",
       "      <td>2.197225e+00</td>\n",
       "      <td>0.0280</td>\n",
       "      <td>29.0</td>\n",
       "      <td>49.792405</td>\n",
       "      <td>8.348998</td>\n",
       "      <td>8.996900</td>\n",
       "    </tr>\n",
       "    <tr>\n",
       "      <th>1</th>\n",
       "      <td>5.0</td>\n",
       "      <td>1.609438e+00</td>\n",
       "      <td>0.0344</td>\n",
       "      <td>29.0</td>\n",
       "      <td>44.895324</td>\n",
       "      <td>7.718552</td>\n",
       "      <td>8.531786</td>\n",
       "    </tr>\n",
       "    <tr>\n",
       "      <th>2</th>\n",
       "      <td>1.0</td>\n",
       "      <td>1.000000e-07</td>\n",
       "      <td>0.0280</td>\n",
       "      <td>10.0</td>\n",
       "      <td>-75.985308</td>\n",
       "      <td>-9.210340</td>\n",
       "      <td>4.605170</td>\n",
       "    </tr>\n",
       "    <tr>\n",
       "      <th>3</th>\n",
       "      <td>7.0</td>\n",
       "      <td>2.302585e+00</td>\n",
       "      <td>0.0344</td>\n",
       "      <td>24.0</td>\n",
       "      <td>-28.543193</td>\n",
       "      <td>-0.766155</td>\n",
       "      <td>7.398609</td>\n",
       "    </tr>\n",
       "    <tr>\n",
       "      <th>4</th>\n",
       "      <td>1.0</td>\n",
       "      <td>1.000000e-07</td>\n",
       "      <td>0.0280</td>\n",
       "      <td>5.0</td>\n",
       "      <td>44.886617</td>\n",
       "      <td>7.293134</td>\n",
       "      <td>8.515191</td>\n",
       "    </tr>\n",
       "  </tbody>\n",
       "</table>\n",
       "</div>"
      ],
      "text/plain": [
       "   frecuencia_1m   cantidad_1m    tasa  ...  monto_total  avg_monto  max_monto\n",
       "0            8.0  2.197225e+00  0.0280  ...    49.792405   8.348998   8.996900\n",
       "1            5.0  1.609438e+00  0.0344  ...    44.895324   7.718552   8.531786\n",
       "2            1.0  1.000000e-07  0.0280  ...   -75.985308  -9.210340   4.605170\n",
       "3            7.0  2.302585e+00  0.0344  ...   -28.543193  -0.766155   7.398609\n",
       "4            1.0  1.000000e-07  0.0280  ...    44.886617   7.293134   8.515191\n",
       "\n",
       "[5 rows x 7 columns]"
      ]
     },
     "execution_count": 6,
     "metadata": {},
     "output_type": "execute_result"
    }
   ],
   "source": [
    "X_batch.head()"
   ]
  },
  {
   "cell_type": "code",
   "execution_count": 0,
   "metadata": {
    "application/vnd.databricks.v1+cell": {
     "cellMetadata": {
      "byteLimit": 2048000,
      "rowLimit": 10000
     },
     "inputWidgets": {},
     "nuid": "29403d35-e756-471d-9608-7f55ad469749",
     "showTitle": false,
     "tableResultSettingsMap": {},
     "title": ""
    }
   },
   "outputs": [
    {
     "output_type": "display_data",
     "data": {
      "application/vnd.jupyter.widget-view+json": {
       "model_id": "30b788953f914d738a07683f60863f3a",
       "version_major": 2,
       "version_minor": 0
      },
      "text/plain": [
       "Downloading artifacts:   0%|          | 0/11 [00:00<?, ?it/s]"
      ]
     },
     "metadata": {},
     "output_type": "display_data"
    }
   ],
   "source": [
    "import mlflow\n",
    "logged_model = 'runs:/8be5abd7b4254acbb00041830e627f47/modelo_simple'\n",
    "\n",
    "# Load model as a PyFuncModel.\n",
    "loaded_model = mlflow.pyfunc.load_model(logged_model)\n"
   ]
  },
  {
   "cell_type": "code",
   "execution_count": 0,
   "metadata": {
    "application/vnd.databricks.v1+cell": {
     "cellMetadata": {
      "byteLimit": 2048000,
      "rowLimit": 10000
     },
     "inputWidgets": {},
     "nuid": "d1824385-d746-43d0-9aa7-21dcddd60171",
     "showTitle": false,
     "tableResultSettingsMap": {},
     "title": ""
    }
   },
   "outputs": [
    {
     "output_type": "stream",
     "name": "stdout",
     "output_type": "stream",
     "text": [
      "Predicciones batch: [0. 0. 1. ... 0. 1. 0.]\n"
     ]
    }
   ],
   "source": [
    "predicciones = loaded_model.predict(X_batch)\n",
    "print(\"Predicciones batch:\", predicciones)"
   ]
  },
  {
   "cell_type": "code",
   "execution_count": 0,
   "metadata": {
    "application/vnd.databricks.v1+cell": {
     "cellMetadata": {},
     "inputWidgets": {},
     "nuid": "f5b88700-77c0-4dd3-871e-15e5b11a31b4",
     "showTitle": false,
     "tableResultSettingsMap": {},
     "title": ""
    }
   },
   "outputs": [],
   "source": []
  }
 ],
 "metadata": {
  "application/vnd.databricks.v1+notebook": {
   "computePreferences": null,
   "dashboards": [],
   "environmentMetadata": {
    "base_environment": "",
    "environment_version": "2"
   },
   "language": "python",
   "notebookMetadata": {
    "pythonIndentUnit": 4
   },
   "notebookName": "modelo05",
   "widgets": {}
  },
  "language_info": {
   "name": "python"
  }
 },
 "nbformat": 4,
 "nbformat_minor": 0
}