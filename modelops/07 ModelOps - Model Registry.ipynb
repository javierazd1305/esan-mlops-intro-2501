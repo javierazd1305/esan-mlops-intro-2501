{
 "cells": [
  {
   "cell_type": "code",
   "execution_count": 0,
   "metadata": {
    "application/vnd.databricks.v1+cell": {
     "cellMetadata": {
      "byteLimit": 2048000,
      "rowLimit": 10000
     },
     "inputWidgets": {},
     "nuid": "dee4bb6e-4c34-4288-8ed9-d7c8658225d7",
     "showTitle": false,
     "tableResultSettingsMap": {},
     "title": ""
    }
   },
   "outputs": [
    {
     "output_type": "stream",
     "name": "stdout",
     "output_type": "stream",
     "text": [
      "Nombre: /Users/jzaratedonayre@outlook.es/repo-clase-esan/modelo3_3, ID: d6aca2d1639b4b1498475591096c2c2c\nNombre: /Users/jzaratedonayre@outlook.es/repo-clase-esan/modelo2_2, ID: 95e525fba0004e0ab39e31ec27252768\n"
     ]
    }
   ],
   "source": [
    "import mlflow\n",
    "\n",
    "# Obtener todos los experimentos registrados\n",
    "experiments = mlflow.search_experiments()\n",
    "\n",
    "# Explorar los experimentos:\n",
    "for exp in experiments:\n",
    "    print(f\"Nombre: {exp.name}, ID: {exp.experiment_id}\")\n"
   ]
  },
  {
   "cell_type": "code",
   "execution_count": 0,
   "metadata": {
    "application/vnd.databricks.v1+cell": {
     "cellMetadata": {
      "byteLimit": 2048000,
      "rowLimit": 10000
     },
     "inputWidgets": {},
     "nuid": "d4ca8a25-f6a0-4100-b072-4fd7fcc60d3f",
     "showTitle": false,
     "tableResultSettingsMap": {},
     "title": ""
    }
   },
   "outputs": [
    {
     "output_type": "stream",
     "name": "stdout",
     "output_type": "stream",
     "text": [
      "d6aca2d1639b4b1498475591096c2c2c\n"
     ]
    }
   ],
   "source": [
    "experiment_id = exp = experiments[0].experiment_id  \n",
    "print(experiment_id)"
   ]
  },
  {
   "cell_type": "code",
   "execution_count": 0,
   "metadata": {
    "application/vnd.databricks.v1+cell": {
     "cellMetadata": {
      "byteLimit": 2048000,
      "rowLimit": 10000
     },
     "inputWidgets": {},
     "nuid": "28b1e428-30af-4ed1-8828-1e685cf42612",
     "showTitle": false,
     "tableResultSettingsMap": {},
     "title": ""
    }
   },
   "outputs": [
    {
     "output_type": "stream",
     "name": "stdout",
     "output_type": "stream",
     "text": [
      "                             run_id                     experiment_id  \\\n0  8be5abd7b4254acbb00041830e627f47  d6aca2d1639b4b1498475591096c2c2c   \n\n     status                                       artifact_uri  \\\n0  FINISHED  dbfs:/databricks/mlflow-tracking/d6aca2d1639b4...   \n\n                        start_time                         end_time  \\\n0 2025-02-26 02:13:54.142000+00:00 2025-02-26 02:14:33.587000+00:00   \n\n   metrics.accuracy  metrics.f1_score params.n_estimators params.max_depth  \\\n0          0.771668          0.441752                 100               10   \n\n       tags.mlflow.databricks.gitRepoCommit  \\\n0  21995a3d1e0237c0a08e57b7d14979cf9f59bd60   \n\n                 tags.mlflow.databricks.cluster.info  \\\n0  {\"cluster_name\":\"Javier Zarate's Cluster\",\"spa...   \n\n            tags.mlflow.user  \\\n0  jzaratedonayre@outlook.es   \n\n                             tags.mlflow.source.name tags.mlflow.runName  \\\n0  /Users/jzaratedonayre@outlook.es/repo-clase-es...     dapper-wolf-739   \n\n  tags.mlflow.runColor          tags.mlflow.databricks.notebook.commandID  \\\n0              #5387dd  1740535759569_7754478657348530059_24aa8d68c4a6...   \n\n  tags.mlflow.databricks.gitRepoProvider  \\\n0                    azureDevOpsServices   \n\n         tags.mlflow.databricks.workspaceURL  \\\n0  adb-106485471189205.5.azuredatabricks.net   \n\n                            tags.sparkDatasourceInfo  \\\n0  path=abfss:REDACTED_LOCAL_PART@dbstoragexqidpg...   \n\n  tags.mlflow.databricks.gitRepoStatus  \\\n0                              unknown   \n\n  tags.mlflow.databricks.gitRepoRelativePath  \\\n0                                  modelo3_3   \n\n                       tags.mlflow.log-model.history  \\\n0  [{\"artifact_path\":\"modelo_simple\",\"flavors\":{\"...   \n\n  tags.mlflow.databricks.cluster.libraries tags.mlflow.databricks.cluster.id  \\\n0         {\"installable\":[],\"redacted\":[]}              0205-011321-dl3t5wke   \n\n  tags.mlflow.databricks.gitRepoReferenceType  \\\n0                                      branch   \n\n  tags.mlflow.databricks.notebookID  \\\n0                  2671892754597742   \n\n                 tags.mlflow.databricks.notebookPath  \\\n0  /Users/jzaratedonayre@outlook.es/repo-clase-es...   \n\n  tags.mlflow.databricks.workspaceID  \\\n0                    106485471189205   \n\n                   tags.mlflow.databricks.gitRepoUrl  \\\n0  https://esaclase@dev.azure.com/esaclase/esancl...   \n\n  tags.mlflow.databricks.gitRepoReference  \\\n0                                    main   \n\n        tags.mlflow.databricks.webappURL tags.mlflow.source.type  \n0  https://eastus-c3.azuredatabricks.net                NOTEBOOK  \n"
     ]
    }
   ],
   "source": [
    "runs = mlflow.search_runs(experiment_id)\n",
    "# Ver las ejecuciones registradas\n",
    "import pandas as pd\n",
    "pd.set_option(\"display.max_columns\", None)  # Para ver todas las columnas\n",
    "print(runs)\n"
   ]
  },
  {
   "cell_type": "code",
   "execution_count": 0,
   "metadata": {
    "application/vnd.databricks.v1+cell": {
     "cellMetadata": {
      "byteLimit": 2048000,
      "rowLimit": 10000
     },
     "inputWidgets": {},
     "nuid": "963176d8-e61e-491d-901b-affad3456881",
     "showTitle": false,
     "tableResultSettingsMap": {},
     "title": ""
    }
   },
   "outputs": [
    {
     "output_type": "stream",
     "name": "stdout",
     "output_type": "stream",
     "text": [
      "Último run_id: 8be5abd7b4254acbb00041830e627f47\n"
     ]
    }
   ],
   "source": [
    "import mlflow\n",
    "\n",
    "# Buscar todas las ejecuciones ordenadas por fecha (de más reciente a más antigua)\n",
    "runs = mlflow.search_runs(experiment_ids=[experiment_id], order_by=[\"start_time DESC\"])\n",
    "\n",
    "# Obtener el último run_id (el más reciente)\n",
    "if not runs.empty:\n",
    "    latest_run_id = runs.iloc[0][\"run_id\"]\n",
    "    print(f\"Último run_id: {latest_run_id}\")\n",
    "else:\n",
    "    print(\"No hay ejecuciones en este experimento.\")"
   ]
  },
  {
   "cell_type": "code",
   "execution_count": 0,
   "metadata": {
    "application/vnd.databricks.v1+cell": {
     "cellMetadata": {
      "byteLimit": 2048000,
      "rowLimit": 10000
     },
     "inputWidgets": {},
     "nuid": "95c062de-8683-47cc-a9e0-2cb3958de23c",
     "showTitle": false,
     "tableResultSettingsMap": {},
     "title": ""
    }
   },
   "outputs": [
    {
     "output_type": "stream",
     "name": "stderr",
     "output_type": "stream",
     "text": [
      "Successfully registered model 'databricks_clase.default.registro_modelo_notebook'.\n"
     ]
    },
    {
     "output_type": "display_data",
     "data": {
      "application/vnd.jupyter.widget-view+json": {
       "model_id": "bbba32c8a10c476699cef9b424fe03e8",
       "version_major": 2,
       "version_minor": 0
      },
      "text/plain": [
       "Downloading artifacts:   0%|          | 0/11 [00:00<?, ?it/s]"
      ]
     },
     "metadata": {},
     "output_type": "display_data"
    },
    {
     "output_type": "display_data",
     "data": {
      "application/vnd.jupyter.widget-view+json": {
       "model_id": "808b4f94714842dbab6c31840b4912ba",
       "version_major": 2,
       "version_minor": 0
      },
      "text/plain": [
       "Uploading artifacts:   0%|          | 0/11 [00:00<?, ?it/s]"
      ]
     },
     "metadata": {},
     "output_type": "display_data"
    },
    {
     "output_type": "stream",
     "name": "stderr",
     "output_type": "stream",
     "text": [
      "Created version '1' of model 'databricks_clase.default.registro_modelo_notebook'.\n"
     ]
    },
    {
     "output_type": "execute_result",
     "data": {
      "text/plain": [
       "<ModelVersion: aliases=[], creation_timestamp=1740536307004, current_stage=None, description='', last_updated_timestamp=1740536308747, name='databricks_clase.default.registro_modelo_notebook', run_id='8be5abd7b4254acbb00041830e627f47', run_link=None, source='dbfs:/databricks/mlflow-tracking/d6aca2d1639b4b1498475591096c2c2c/8be5abd7b4254acbb00041830e627f47/artifacts/modelo_simple', status='READY', status_message='', tags={}, user_id='jzaratedonayre@outlook.es', version='1'>"
      ]
     },
     "execution_count": 5,
     "metadata": {},
     "output_type": "execute_result"
    }
   ],
   "source": [
    "run_id = latest_run_id  # ID de la ejecución \n",
    "model_name = \"registro_modelo_notebook\"  # Nombre del modelo en el registro\n",
    "\n",
    "mlflow.register_model(\n",
    "    model_uri=f\"runs:/{run_id}/modelo_simple\",\n",
    "    name=model_name\n",
    ")\n"
   ]
  },
  {
   "cell_type": "code",
   "execution_count": 0,
   "metadata": {
    "application/vnd.databricks.v1+cell": {
     "cellMetadata": {},
     "inputWidgets": {},
     "nuid": "8182e0f1-1ea9-4786-b1dc-ae8e67a04d77",
     "showTitle": false,
     "tableResultSettingsMap": {},
     "title": ""
    }
   },
   "outputs": [],
   "source": []
  },
  {
   "cell_type": "code",
   "execution_count": 0,
   "metadata": {
    "application/vnd.databricks.v1+cell": {
     "cellMetadata": {
      "byteLimit": 2048000,
      "rowLimit": 10000
     },
     "inputWidgets": {},
     "nuid": "550b6b36-f246-4dfd-b4c2-dc148143619a",
     "showTitle": false,
     "tableResultSettingsMap": {},
     "title": ""
    }
   },
   "outputs": [
    {
     "output_type": "display_data",
     "data": {
      "application/vnd.jupyter.widget-view+json": {
       "model_id": "d5de14693db94611b05e40dc678e2a9d",
       "version_major": 2,
       "version_minor": 0
      },
      "text/plain": [
       "Downloading artifacts:   0%|          | 0/11 [00:00<?, ?it/s]"
      ]
     },
     "metadata": {},
     "output_type": "display_data"
    },
    {
     "output_type": "stream",
     "name": "stdout",
     "output_type": "stream",
     "text": [
      "Modelo cargado correctamente\n"
     ]
    }
   ],
   "source": [
    "import mlflow.pyfunc\n",
    "\n",
    "# Nombre del modelo en el Model Registry\n",
    "\n",
    "# Versión del modelo a cargar\n",
    "model_version = \"1\"  # Puedes cambiarlo a la versión más reciente\n",
    "\n",
    "# Cargar el modelo desde MLflow\n",
    "loaded_model = mlflow.pyfunc.load_model(f\"models:/{model_name}/{model_version}\")\n",
    "\n",
    "print(\"Modelo cargado correctamente\")\n"
   ]
  },
  {
   "cell_type": "code",
   "execution_count": 0,
   "metadata": {
    "application/vnd.databricks.v1+cell": {
     "cellMetadata": {
      "byteLimit": 2048000,
      "rowLimit": 10000
     },
     "inputWidgets": {},
     "nuid": "bb7bfa74-a175-49da-827b-162b75b5a062",
     "showTitle": false,
     "tableResultSettingsMap": {},
     "title": ""
    }
   },
   "outputs": [
    {
     "output_type": "stream",
     "name": "stdout",
     "output_type": "stream",
     "text": [
      "Predicciones:\n[1.]\n"
     ]
    }
   ],
   "source": [
    "import pandas as pd\n",
    "\n",
    "\n",
    "#  Definir un input correcto con las columnas exactas que espera el modelo\n",
    "input_example = pd.DataFrame([{\n",
    "    \"frecuencia_1m\": 4,\n",
    "    \"cantidad_1m\": 8,\n",
    "    \"tasa\": 0.33,\n",
    "    \"ultima_compra_1m\": 15,\n",
    "    \"monto_total\": 50000,\n",
    "    \"avg_monto\": 1000,\n",
    "    \"max_monto\": 199\n",
    "}])\n",
    "\n",
    "#  Convertir todas las columnas a float64\n",
    "input_example = input_example.astype('float64')\n",
    "\n",
    "# Generar predicciones\n",
    "predictions = loaded_model.predict(input_example)\n",
    "\n",
    "# Mostrar los resultados\n",
    "print(\"Predicciones:\")\n",
    "print(predictions)\n"
   ]
  },
  {
   "cell_type": "code",
   "execution_count": 0,
   "metadata": {
    "application/vnd.databricks.v1+cell": {
     "cellMetadata": {},
     "inputWidgets": {},
     "nuid": "5fd6b9ce-fc3a-4b9a-bb10-fbc9426a2f81",
     "showTitle": false,
     "tableResultSettingsMap": {},
     "title": ""
    }
   },
   "outputs": [],
   "source": []
  }
 ],
 "metadata": {
  "application/vnd.databricks.v1+notebook": {
   "computePreferences": null,
   "dashboards": [],
   "environmentMetadata": {
    "base_environment": "",
    "environment_version": "2"
   },
   "inputWidgetPreferences": null,
   "language": "python",
   "notebookMetadata": {
    "pythonIndentUnit": 4
   },
   "notebookName": "07 ModelOps - Model Registry",
   "widgets": {}
  },
  "language_info": {
   "name": "python"
  }
 },
 "nbformat": 4,
 "nbformat_minor": 0
}