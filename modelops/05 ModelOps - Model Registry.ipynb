{
 "cells": [
  {
   "cell_type": "code",
   "execution_count": 0,
   "metadata": {
    "application/vnd.databricks.v1+cell": {
     "cellMetadata": {
      "byteLimit": 2048000,
      "rowLimit": 10000
     },
     "inputWidgets": {},
     "nuid": "38031e68-ce0b-446a-9cef-cd42b4f8693c",
     "showTitle": false,
     "tableResultSettingsMap": {},
     "title": ""
    }
   },
   "outputs": [],
   "source": [
    "from databricks.feature_store import FeatureStoreClient"
   ]
  },
  {
   "cell_type": "code",
   "execution_count": 0,
   "metadata": {
    "application/vnd.databricks.v1+cell": {
     "cellMetadata": {
      "byteLimit": 2048000,
      "rowLimit": 10000
     },
     "inputWidgets": {},
     "nuid": "19d0fb00-cac8-48bd-b81f-71b85037fc72",
     "showTitle": false,
     "tableResultSettingsMap": {},
     "title": ""
    }
   },
   "outputs": [
    {
     "output_type": "stream",
     "name": "stdout",
     "output_type": "stream",
     "text": [
      "🚀 Columnas seleccionadas para entrenamiento: ['periodo', 'id_cliente', 'tiempo_permanencia', 'flg_vip', 'incidencias_a', 'incidencias_b', 'tipo_producto', 'periodo_creacion', 'departamento', 'segmento_pago', 'canal', 'segmento_cliente', 'crossell', 'tasa', 'monto_1m', 'monto_2m', 'monto_3m', 'monto_4m', 'monto_5m', 'monto_6m', 'cantidad_1m', 'cantidad_2m', 'cantidad_3m', 'cantidad_6m', 'frecuencia_1m', 'frecuencia_2m', 'frecuencia_3m', 'ultima_compra_1m', 'ultima_compra_2m', 'ultima_compra_3m', 'monto_total', 'tendencia_monto']\n🎯 Variable objetivo: flg_churn\n"
     ]
    }
   ],
   "source": [
    "# Nuevas columnas de la tabla base_consolidada\n",
    "feature_columns = [\n",
    "    'periodo', 'id_cliente', 'tiempo_permanencia', 'flg_vip', 'incidencias_a', 'incidencias_b', \n",
    "    'tipo_producto', 'periodo_creacion', 'departamento', 'segmento_pago', 'canal', \n",
    "    'segmento_cliente', 'crossell', 'tasa', 'monto_1m', 'monto_2m', 'monto_3m', 'monto_4m', \n",
    "    'monto_5m', 'monto_6m', 'cantidad_1m', 'cantidad_2m', 'cantidad_3m', 'cantidad_6m', \n",
    "    'frecuencia_1m', 'frecuencia_2m', 'frecuencia_3m', 'ultima_compra_1m', 'ultima_compra_2m', \n",
    "    'ultima_compra_3m', 'monto_total', 'tendencia_monto'\n",
    "]\n",
    "\n",
    "# Variable objetivo (label)\n",
    "flag = \"flg_churn\"\n",
    "\n",
    "print(\"🚀 Columnas seleccionadas para entrenamiento:\", feature_columns)\n",
    "print(\"🎯 Variable objetivo:\", flag)\n"
   ]
  },
  {
   "cell_type": "code",
   "execution_count": 0,
   "metadata": {
    "application/vnd.databricks.v1+cell": {
     "cellMetadata": {
      "byteLimit": 2048000,
      "rowLimit": 10000
     },
     "inputWidgets": {},
     "nuid": "073039a4-f59b-4edb-93eb-7b03f2bada57",
     "showTitle": false,
     "tableResultSettingsMap": {},
     "title": ""
    }
   },
   "outputs": [],
   "source": [
    "fs = FeatureStoreClient()\n",
    "feature_table_name = \"databricks_clase.prueba_schema.base_consolidada_mensual_feats\"\n",
    "df_base = spark.read.table(\"databricks_clase.prueba_schema.base_consolidada_mensual\")"
   ]
  },
  {
   "cell_type": "code",
   "execution_count": 0,
   "metadata": {
    "application/vnd.databricks.v1+cell": {
     "cellMetadata": {
      "byteLimit": 2048000,
      "rowLimit": 10000
     },
     "inputWidgets": {},
     "nuid": "dd2ddeba-d588-4c8a-97cb-977134298781",
     "showTitle": false,
     "tableResultSettingsMap": {},
     "title": ""
    }
   },
   "outputs": [
    {
     "output_type": "stream",
     "name": "stderr",
     "output_type": "stream",
     "text": [
      "2025/02/26 00:57:08 INFO databricks.ml_features._compute_client._compute_client: Setting columns ['id_cliente'] of table 'databricks_clase.prueba_schema.base_consolidada_mensual_feats' to NOT NULL.\n2025/02/26 00:57:10 INFO databricks.ml_features._compute_client._compute_client: Setting Primary Keys constraint ['id_cliente'] on table 'databricks_clase.prueba_schema.base_consolidada_mensual_feats'.\n/databricks/python/lib/python3.12/site-packages/databricks/sdk/service/jobs.py:60: SyntaxWarning: invalid escape sequence '\\.'\n  \"\"\"The sequence number of this run attempt for a triggered job run. The initial attempt of a run\n/databricks/python/lib/python3.12/site-packages/databricks/sdk/service/jobs.py:2570: SyntaxWarning: invalid escape sequence '\\.'\n  \"\"\"The sequence number of this run attempt for a triggered job run. The initial attempt of a run\n/databricks/python/lib/python3.12/site-packages/databricks/sdk/service/jobs.py:3431: SyntaxWarning: invalid escape sequence '\\.'\n  \"\"\"The sequence number of this run attempt for a triggered job run. The initial attempt of a run\n2025/02/26 00:57:14 INFO databricks.ml_features._compute_client._compute_client: Created feature table 'databricks_clase.prueba_schema.base_consolidada_mensual_feats'.\n"
     ]
    },
    {
     "output_type": "execute_result",
     "data": {
      "text/plain": [
       "<FeatureTable: name='databricks_clase.prueba_schema.base_consolidada_mensual_feats', table_id='e59d428c-c555-454f-8e13-21c677de4e65', description=('Feature store con todas las columnas del dataset consolidado (excluyendo '\n",
       " 'flg_churn)'), primary_keys=['id_cliente'], partition_columns=[], features=['periodo',\n",
       " 'id_cliente',\n",
       " 'tiempo_permanencia',\n",
       " 'flg_vip',\n",
       " 'incidencias_a',\n",
       " 'incidencias_b',\n",
       " 'tipo_producto',\n",
       " 'periodo_creacion',\n",
       " 'departamento',\n",
       " 'segmento_pago',\n",
       " 'canal',\n",
       " 'segmento_cliente',\n",
       " 'crossell',\n",
       " 'tasa',\n",
       " 'monto_1m',\n",
       " 'monto_2m',\n",
       " 'monto_3m',\n",
       " 'monto_4m',\n",
       " 'monto_5m',\n",
       " 'monto_6m',\n",
       " 'cantidad_1m',\n",
       " 'cantidad_2m',\n",
       " 'cantidad_3m',\n",
       " 'cantidad_6m',\n",
       " 'frecuencia_1m',\n",
       " 'frecuencia_2m',\n",
       " 'frecuencia_3m',\n",
       " 'ultima_compra_1m',\n",
       " 'ultima_compra_2m',\n",
       " 'ultima_compra_3m',\n",
       " 'monto_total',\n",
       " 'tendencia_monto'], creation_timestamp=1740531428445, online_stores=[], notebook_producers=[], job_producers=[], table_data_sources=[], path_data_sources=[], custom_data_sources=[], timestamp_keys=[], tags={}>"
      ]
     },
     "execution_count": 4,
     "metadata": {},
     "output_type": "execute_result"
    }
   ],
   "source": [
    "\n",
    "# creamos la tabla en el Feature Store\n",
    "fs.create_table(\n",
    "    name=feature_table_name,\n",
    "    primary_keys=[\"id_cliente\"],  # Clave primaria\n",
    "    schema=df_base.select(*feature_columns).schema,  # Solo con las columnas necesarias\n",
    "    description=\"Feature store con todas las columnas del dataset consolidado (excluyendo flg_churn)\"\n",
    ")\n"
   ]
  },
  {
   "cell_type": "code",
   "execution_count": 0,
   "metadata": {
    "application/vnd.databricks.v1+cell": {
     "cellMetadata": {
      "byteLimit": 2048000,
      "rowLimit": 10000
     },
     "inputWidgets": {},
     "nuid": "608658a0-b37b-4185-9db6-51fcd8316fff",
     "showTitle": false,
     "tableResultSettingsMap": {},
     "title": ""
    }
   },
   "outputs": [],
   "source": [
    "# Excluir 'id_cliente' de las columnas si ya es clave primaria\n",
    "columns_to_write = [col for col in feature_columns if col != \"id_cliente\"]\n",
    "\n",
    "# Escribir la tabla en el Feature Store\n",
    "fs.write_table(\n",
    "    name=feature_table_name,\n",
    "    df=df_base.select(\"id_cliente\", *columns_to_write),  # 'id_cliente' ya está como clave primaria\n",
    "    mode=\"overwrite\"\n",
    ")"
   ]
  },
  {
   "cell_type": "code",
   "execution_count": 0,
   "metadata": {
    "application/vnd.databricks.v1+cell": {
     "cellMetadata": {
      "byteLimit": 2048000,
      "rowLimit": 10000
     },
     "inputWidgets": {},
     "nuid": "9ccdf69f-ff77-4acb-b597-b01a412b0bef",
     "showTitle": false,
     "tableResultSettingsMap": {},
     "title": ""
    }
   },
   "outputs": [],
   "source": [
    "# leer tabla de feature store\n",
    "features_df = fs.read_table(name=feature_table_name)\n",
    "\n",
    "# Convertir a Pandas para usar con sklearn\n",
    "features = features_df.toPandas()"
   ]
  },
  {
   "cell_type": "code",
   "execution_count": 0,
   "metadata": {
    "application/vnd.databricks.v1+cell": {
     "cellMetadata": {
      "byteLimit": 2048000,
      "rowLimit": 10000
     },
     "inputWidgets": {},
     "nuid": "8160626f-bf2c-4ebc-85f8-c6bdec5b0500",
     "showTitle": false,
     "tableResultSettingsMap": {},
     "title": ""
    }
   },
   "outputs": [
    {
     "output_type": "stream",
     "name": "stdout",
     "output_type": "stream",
     "text": [
      "Antes del merge - features: (48161, 32), target: (48161, 2)\nDespués del merge: (48161, 33)\nValores nulos después del merge:\n periodo               0\nid_cliente            0\ntiempo_permanencia    0\nflg_vip               0\nincidencias_a         0\nincidencias_b         0\ntipo_producto         0\nperiodo_creacion      0\ndepartamento          0\nsegmento_pago         0\ncanal                 0\nsegmento_cliente      0\ncrossell              0\ntasa                  0\nmonto_1m              0\nmonto_2m              0\nmonto_3m              0\nmonto_4m              0\nmonto_5m              0\nmonto_6m              0\ncantidad_1m           0\ncantidad_2m           0\ncantidad_3m           0\ncantidad_6m           0\nfrecuencia_1m         0\nfrecuencia_2m         0\nfrecuencia_3m         0\nultima_compra_1m      0\nultima_compra_2m      0\nultima_compra_3m      0\nmonto_total           0\ntendencia_monto       0\nflg_churn             0\ndtype: int64\n"
     ]
    }
   ],
   "source": [
    "import pandas as pd\n",
    "\n",
    "#  Recuperar el target desde el dataset base\n",
    "target = df_base.select(\"id_cliente\", \"flg_churn\").toPandas()\n",
    "\n",
    "#  Asegurar que no haya duplicados en `id_cliente`\n",
    "features = features.drop_duplicates(subset=['id_cliente'])\n",
    "target = target.drop_duplicates(subset=['id_cliente'])\n",
    "\n",
    "#  Verificar tamaños antes del merge\n",
    "print(f\"Antes del merge - features: {features.shape}, target: {target.shape}\")\n",
    "\n",
    "#  Hacer la unión con verificación de nulos\n",
    "features_with_target = features.merge(target, on=\"id_cliente\", how=\"inner\")\n",
    "print(f\"Después del merge: {features_with_target.shape}\")\n",
    "print(\"Valores nulos después del merge:\\n\", features_with_target.isnull().sum())\n",
    "\n"
   ]
  },
  {
   "cell_type": "code",
   "execution_count": 0,
   "metadata": {
    "application/vnd.databricks.v1+cell": {
     "cellMetadata": {
      "byteLimit": 2048000,
      "rowLimit": 10000
     },
     "inputWidgets": {},
     "nuid": "a4b17165-477a-4f7c-a628-c5d02c80fa21",
     "showTitle": false,
     "tableResultSettingsMap": {},
     "title": ""
    }
   },
   "outputs": [
    {
     "output_type": "stream",
     "name": "stdout",
     "output_type": "stream",
     "text": [
      "Dimensiones finales - X: (48161, 5), y: (48161,)\nDistribución de y:\n0.0    0.873279\n1.0    0.126721\nName: flg_churn, dtype: float64\n"
     ]
    }
   ],
   "source": [
    "#  Separar features y target\n",
    "X = features_with_target[['frecuencia_1m', 'cantidad_1m', 'tasa', 'ultima_compra_1m', 'monto_total']]\n",
    "y = features_with_target[\"flg_churn\"]\n",
    "\n",
    "#  Verificar dimensiones finales\n",
    "print(f\"Dimensiones finales - X: {X.shape}, y: {y.shape}\")\n",
    "print(f\"Distribución de y:\\n{y.value_counts(normalize=True)}\")\n"
   ]
  },
  {
   "cell_type": "code",
   "execution_count": 0,
   "metadata": {
    "application/vnd.databricks.v1+cell": {
     "cellMetadata": {
      "byteLimit": 2048000,
      "rowLimit": 10000
     },
     "inputWidgets": {},
     "nuid": "10422303-9fbf-453d-ae3e-30d1e5615ab4",
     "showTitle": false,
     "tableResultSettingsMap": {},
     "title": ""
    }
   },
   "outputs": [],
   "source": [
    "import numpy as np\n",
    "from sklearn.ensemble import RandomForestClassifier\n",
    "from sklearn.metrics import f1_score, accuracy_score, classification_report\n",
    "from sklearn.model_selection import train_test_split\n",
    "from sklearn.preprocessing import LabelEncoder, StandardScaler\n",
    "import mlflow"
   ]
  },
  {
   "cell_type": "code",
   "execution_count": 0,
   "metadata": {
    "application/vnd.databricks.v1+cell": {
     "cellMetadata": {
      "byteLimit": 2048000,
      "rowLimit": 10000
     },
     "inputWidgets": {},
     "nuid": "02c78375-9cc4-42f1-b55d-ca50a2ab5587",
     "showTitle": false,
     "tableResultSettingsMap": {},
     "title": ""
    }
   },
   "outputs": [
    {
     "output_type": "display_data",
     "data": {
      "application/vnd.jupyter.widget-view+json": {
       "model_id": "060dd2b2775943f4af640c90a3b429fd",
       "version_major": 2,
       "version_minor": 0
      },
      "text/plain": [
       "Uploading artifacts:   0%|          | 0/3 [00:00<?, ?it/s]"
      ]
     },
     "metadata": {},
     "output_type": "display_data"
    },
    {
     "output_type": "display_data",
     "data": {
      "application/vnd.jupyter.widget-view+json": {
       "model_id": "b3bce854322b4ecdb4c0d1c0213163f7",
       "version_major": 2,
       "version_minor": 0
      },
      "text/plain": [
       "Uploading artifacts:   0%|          | 0/9 [00:00<?, ?it/s]"
      ]
     },
     "metadata": {},
     "output_type": "display_data"
    },
    {
     "output_type": "stream",
     "name": "stdout",
     "output_type": "stream",
     "text": [
      " F1 Score: 0.5178\n Accuracy: 0.8086\n Classification Report:\n               precision    recall  f1-score   support\n\n         0.0       0.97      0.81      0.88      8412\n         1.0       0.38      0.81      0.52      1221\n\n    accuracy                           0.81      9633\n   macro avg       0.67      0.81      0.70      9633\nweighted avg       0.89      0.81      0.83      9633\n\n"
     ]
    }
   ],
   "source": [
    "# 1 Convertir variables categóricas en numéricas\n",
    "categorical_cols = ['tipo_producto', 'departamento', 'canal']\n",
    "label_encoders = {}\n",
    "\n",
    "for col in categorical_cols:\n",
    "    le = LabelEncoder()\n",
    "    features_with_target[col] = le.fit_transform(features_with_target[col])\n",
    "    label_encoders[col] = le  # Guardar el encoder para futuras conversiones\n",
    "\n",
    "# 2 Manejo de valores nulos: Llenar con la media\n",
    "features_with_target.fillna(features_with_target.mean(), inplace=True)\n",
    "\n",
    "# 3 Escalar las características (opcional pero recomendado)\n",
    "scaler = StandardScaler()\n",
    "X_scaled = scaler.fit_transform(X)\n",
    "\n",
    "# 4 Dividir en entrenamiento y prueba\n",
    "X_train, X_test, y_train, y_test = train_test_split(X_scaled, y, test_size=0.2, random_state=42, stratify=y)\n",
    "\n",
    "# 5 Crear y entrenar el modelo\n",
    "model = RandomForestClassifier(n_estimators=100, max_depth=10, random_state=42, class_weight=\"balanced\")\n",
    "model.fit(X_train, y_train)\n",
    "\n",
    "# 6 Predicción\n",
    "y_pred = model.predict(X_test)\n",
    "\n",
    "# 7 Evaluación\n",
    "f1 = f1_score(y_test, y_pred)\n",
    "accuracy = accuracy_score(y_test, y_pred)\n",
    "\n",
    "print(f\" F1 Score: {f1:.4f}\")\n",
    "print(f\" Accuracy: {accuracy:.4f}\")\n",
    "print(\" Classification Report:\\n\", classification_report(y_test, y_pred))"
   ]
  },
  {
   "cell_type": "code",
   "execution_count": 0,
   "metadata": {
    "application/vnd.databricks.v1+cell": {
     "cellMetadata": {
      "byteLimit": 2048000,
      "rowLimit": 10000
     },
     "inputWidgets": {},
     "nuid": "36f2e33f-e6e1-466b-9783-9106e873f117",
     "showTitle": false,
     "tableResultSettingsMap": {},
     "title": ""
    }
   },
   "outputs": [],
   "source": [
    "mlflow.end_run()"
   ]
  },
  {
   "cell_type": "code",
   "execution_count": 0,
   "metadata": {
    "application/vnd.databricks.v1+cell": {
     "cellMetadata": {
      "byteLimit": 2048000,
      "rowLimit": 10000
     },
     "inputWidgets": {},
     "nuid": "3bc76191-0571-4aed-ab10-4df099c7b697",
     "showTitle": false,
     "tableResultSettingsMap": {},
     "title": ""
    }
   },
   "outputs": [
    {
     "output_type": "stream",
     "name": "stderr",
     "output_type": "stream",
     "text": [
      "2025/02/26 01:11:23 WARNING mlflow.models.model: Model logged without a signature. Signatures will be required for upcoming model registry features as they validate model inputs and denote the expected schema of model outputs. Please visit https://www.mlflow.org/docs/2.15.1/models.html#set-signature-on-logged-model for instructions on setting a model signature on your logged model.\n"
     ]
    },
    {
     "output_type": "display_data",
     "data": {
      "application/vnd.jupyter.widget-view+json": {
       "model_id": "f2aff9c16879432b9c3ab3fbef92c362",
       "version_major": 2,
       "version_minor": 0
      },
      "text/plain": [
       "Uploading artifacts:   0%|          | 0/9 [00:00<?, ?it/s]"
      ]
     },
     "metadata": {},
     "output_type": "display_data"
    },
    {
     "output_type": "stream",
     "name": "stderr",
     "output_type": "stream",
     "text": [
      "2025/02/26 01:11:24 WARNING mlflow.models.model: Input example should be provided to infer model signature if the model signature is not provided when logging the model.\n2025/02/26 01:11:24 INFO mlflow.tracking._tracking_service.client: 🏃 View run debonair-midge-217 at: adb-106485471189205.5.azuredatabricks.net/ml/experiments/95e525fba0004e0ab39e31ec27252768/runs/c01904e839e145aca1bd036fe95e62f9.\n2025/02/26 01:11:24 INFO mlflow.tracking._tracking_service.client: 🧪 View experiment at: adb-106485471189205.5.azuredatabricks.net/ml/experiments/95e525fba0004e0ab39e31ec27252768.\n"
     ]
    },
    {
     "output_type": "stream",
     "name": "stdout",
     "output_type": "stream",
     "text": [
      " F1 Score: 0.5178\n Accuracy: 0.8086\n Classification Report:\n               precision    recall  f1-score   support\n\n         0.0       0.97      0.81      0.88      8412\n         1.0       0.38      0.81      0.52      1221\n\n    accuracy                           0.81      9633\n   macro avg       0.67      0.81      0.70      9633\nweighted avg       0.89      0.81      0.83      9633\n\n"
     ]
    }
   ],
   "source": [
    "mlflow.sklearn.autolog(disable=True)\n",
    "\n",
    "with mlflow.start_run():\n",
    "    # 1 Convertir variables categóricas en numéricas\n",
    "    categorical_cols = ['tipo_producto', 'departamento', 'canal']\n",
    "    label_encoders = {}\n",
    "\n",
    "    for col in categorical_cols:\n",
    "        le = LabelEncoder()\n",
    "        features_with_target[col] = le.fit_transform(features_with_target[col])\n",
    "        label_encoders[col] = le  # Guardar el encoder para futuras conversiones\n",
    "\n",
    "    # 2 Manejo de valores nulos: Llenar con la media\n",
    "    features_with_target.fillna(features_with_target.mean(), inplace=True)\n",
    "\n",
    "    # 3 Escalar las características (opcional pero recomendado)\n",
    "    scaler = StandardScaler()\n",
    "    X_scaled = scaler.fit_transform(X)\n",
    "\n",
    "    # 4 Dividir en entrenamiento y prueba\n",
    "    X_train, X_test, y_train, y_test = train_test_split(X_scaled, y, test_size=0.2, random_state=42, stratify=y)\n",
    "\n",
    "    # 5 Crear y entrenar el modelo\n",
    "    model = RandomForestClassifier(n_estimators=100, max_depth=10, random_state=42, class_weight=\"balanced\")\n",
    "    model.fit(X_train, y_train)\n",
    "    mlflow.log_param(\"parametro_adicional\", \"valor_ejemplo\")\n",
    "\n",
    "    # 6 Predicción\n",
    "    y_pred = model.predict(X_test)\n",
    "    mlflow.sklearn.log_model(model, \"model\")\n",
    "    # 7 Evaluación\n",
    "    f1 = f1_score(y_test, y_pred)\n",
    "    accuracy = accuracy_score(y_test, y_pred)\n",
    "    mlflow.log_param(\"f1\", f1)\n",
    "    mlflow.log_param(\"accuracy\", accuracy)\n",
    "    print(f\" F1 Score: {f1:.4f}\")\n",
    "    print(f\" Accuracy: {accuracy:.4f}\")\n",
    "    print(\" Classification Report:\\n\", classification_report(y_test, y_pred))\n",
    "mlflow.end_run()\n"
   ]
  },
  {
   "cell_type": "code",
   "execution_count": 0,
   "metadata": {
    "application/vnd.databricks.v1+cell": {
     "cellMetadata": {
      "byteLimit": 2048000,
      "rowLimit": 10000
     },
     "inputWidgets": {},
     "nuid": "78429baf-609a-46ae-ae3f-45a39e3a91a1",
     "showTitle": false,
     "tableResultSettingsMap": {},
     "title": ""
    }
   },
   "outputs": [
    {
     "output_type": "execute_result",
     "data": {
      "text/html": [
       "<div>\n",
       "<style scoped>\n",
       "    .dataframe tbody tr th:only-of-type {\n",
       "        vertical-align: middle;\n",
       "    }\n",
       "\n",
       "    .dataframe tbody tr th {\n",
       "        vertical-align: top;\n",
       "    }\n",
       "\n",
       "    .dataframe thead th {\n",
       "        text-align: right;\n",
       "    }\n",
       "</style>\n",
       "<table border=\"1\" class=\"dataframe\">\n",
       "  <thead>\n",
       "    <tr style=\"text-align: right;\">\n",
       "      <th></th>\n",
       "      <th>frecuencia_1m</th>\n",
       "      <th>cantidad_1m</th>\n",
       "      <th>tasa</th>\n",
       "      <th>ultima_compra_1m</th>\n",
       "      <th>monto_total</th>\n",
       "    </tr>\n",
       "  </thead>\n",
       "  <tbody>\n",
       "    <tr>\n",
       "      <th>0</th>\n",
       "      <td>28.0</td>\n",
       "      <td>4.499810e+00</td>\n",
       "      <td>0.034400</td>\n",
       "      <td>30.0</td>\n",
       "      <td>49.033113</td>\n",
       "    </tr>\n",
       "    <tr>\n",
       "      <th>1</th>\n",
       "      <td>1.0</td>\n",
       "      <td>1.000000e-07</td>\n",
       "      <td>0.028000</td>\n",
       "      <td>1.0</td>\n",
       "      <td>32.406695</td>\n",
       "    </tr>\n",
       "    <tr>\n",
       "      <th>2</th>\n",
       "      <td>5.0</td>\n",
       "      <td>1.791759e+00</td>\n",
       "      <td>0.034400</td>\n",
       "      <td>30.0</td>\n",
       "      <td>43.357694</td>\n",
       "    </tr>\n",
       "    <tr>\n",
       "      <th>3</th>\n",
       "      <td>3.0</td>\n",
       "      <td>2.397895e+00</td>\n",
       "      <td>0.034400</td>\n",
       "      <td>22.0</td>\n",
       "      <td>24.500427</td>\n",
       "    </tr>\n",
       "    <tr>\n",
       "      <th>4</th>\n",
       "      <td>25.0</td>\n",
       "      <td>4.615121e+00</td>\n",
       "      <td>0.034400</td>\n",
       "      <td>30.0</td>\n",
       "      <td>49.986442</td>\n",
       "    </tr>\n",
       "    <tr>\n",
       "      <th>...</th>\n",
       "      <td>...</td>\n",
       "      <td>...</td>\n",
       "      <td>...</td>\n",
       "      <td>...</td>\n",
       "      <td>...</td>\n",
       "    </tr>\n",
       "    <tr>\n",
       "      <th>48156</th>\n",
       "      <td>2.0</td>\n",
       "      <td>6.931472e-01</td>\n",
       "      <td>0.031509</td>\n",
       "      <td>25.0</td>\n",
       "      <td>-78.922771</td>\n",
       "    </tr>\n",
       "    <tr>\n",
       "      <th>48157</th>\n",
       "      <td>3.0</td>\n",
       "      <td>1.098612e+00</td>\n",
       "      <td>0.034400</td>\n",
       "      <td>22.0</td>\n",
       "      <td>-57.107202</td>\n",
       "    </tr>\n",
       "    <tr>\n",
       "      <th>48158</th>\n",
       "      <td>5.0</td>\n",
       "      <td>1.609438e+00</td>\n",
       "      <td>0.029500</td>\n",
       "      <td>30.0</td>\n",
       "      <td>-52.690897</td>\n",
       "    </tr>\n",
       "    <tr>\n",
       "      <th>48159</th>\n",
       "      <td>4.0</td>\n",
       "      <td>1.609438e+00</td>\n",
       "      <td>0.034400</td>\n",
       "      <td>22.0</td>\n",
       "      <td>38.718901</td>\n",
       "    </tr>\n",
       "    <tr>\n",
       "      <th>48160</th>\n",
       "      <td>15.0</td>\n",
       "      <td>3.178054e+00</td>\n",
       "      <td>0.030000</td>\n",
       "      <td>28.0</td>\n",
       "      <td>46.237434</td>\n",
       "    </tr>\n",
       "  </tbody>\n",
       "</table>\n",
       "<p>48161 rows × 5 columns</p>\n",
       "</div>"
      ],
      "text/plain": [
       "       frecuencia_1m   cantidad_1m      tasa  ultima_compra_1m  monto_total\n",
       "0               28.0  4.499810e+00  0.034400              30.0    49.033113\n",
       "1                1.0  1.000000e-07  0.028000               1.0    32.406695\n",
       "2                5.0  1.791759e+00  0.034400              30.0    43.357694\n",
       "3                3.0  2.397895e+00  0.034400              22.0    24.500427\n",
       "4               25.0  4.615121e+00  0.034400              30.0    49.986442\n",
       "...              ...           ...       ...               ...          ...\n",
       "48156            2.0  6.931472e-01  0.031509              25.0   -78.922771\n",
       "48157            3.0  1.098612e+00  0.034400              22.0   -57.107202\n",
       "48158            5.0  1.609438e+00  0.029500              30.0   -52.690897\n",
       "48159            4.0  1.609438e+00  0.034400              22.0    38.718901\n",
       "48160           15.0  3.178054e+00  0.030000              28.0    46.237434\n",
       "\n",
       "[48161 rows x 5 columns]"
      ]
     },
     "execution_count": 16,
     "metadata": {},
     "output_type": "execute_result"
    }
   ],
   "source": [
    "X"
   ]
  },
  {
   "cell_type": "code",
   "execution_count": 0,
   "metadata": {
    "application/vnd.databricks.v1+cell": {
     "cellMetadata": {
      "byteLimit": 2048000,
      "rowLimit": 10000
     },
     "inputWidgets": {},
     "nuid": "389aa555-6d68-4bb6-9dc8-a983e83b2ea0",
     "showTitle": false,
     "tableResultSettingsMap": {},
     "title": ""
    }
   },
   "outputs": [
    {
     "output_type": "display_data",
     "data": {
      "application/vnd.jupyter.widget-view+json": {
       "model_id": "5d5a846f108543ba95baa26d10a38933",
       "version_major": 2,
       "version_minor": 0
      },
      "text/plain": [
       "Downloading artifacts:   0%|          | 0/9 [00:00<?, ?it/s]"
      ]
     },
     "metadata": {},
     "output_type": "display_data"
    },
    {
     "output_type": "stream",
     "name": "stdout",
     "output_type": "stream",
     "text": [
      " Predicción: [0.]\n"
     ]
    },
    {
     "output_type": "stream",
     "name": "stderr",
     "output_type": "stream",
     "text": [
      "/databricks/python/lib/python3.12/site-packages/sklearn/base.py:486: UserWarning: X has feature names, but RandomForestClassifier was fitted without feature names\n  warnings.warn(\n"
     ]
    }
   ],
   "source": [
    "model_uri = 'runs:/c01904e839e145aca1bd036fe95e62f9/model'\n",
    "\n",
    "#  Definir un input correcto con las columnas exactas que espera el modelo\n",
    "input_example = pd.DataFrame([{\n",
    "    \"frecuencia_1m\": 4,\n",
    "    \"cantidad_1m\": 8,\n",
    "    \"tasa\": 0.33,\n",
    "    \"ultima_compra_1m\": 15,\n",
    "    \"monto_total\": 5000,\n",
    "}])\n",
    "\n",
    "\n",
    "#  Convertir todas las columnas a float64\n",
    "input_example = input_example.astype('float64')\n",
    "\n",
    "#  Cargar el modelo y predecir\n",
    "predicciones = mlflow.pyfunc.load_model(model_uri).predict(input_example)\n",
    "\n",
    "#  Mostrar resultado\n",
    "print(\" Predicción:\", predicciones)\n"
   ]
  },
  {
   "cell_type": "code",
   "execution_count": 0,
   "metadata": {
    "application/vnd.databricks.v1+cell": {
     "cellMetadata": {},
     "inputWidgets": {},
     "nuid": "ff7db470-6fbb-4a44-b454-802d319be8c4",
     "showTitle": false,
     "tableResultSettingsMap": {},
     "title": ""
    }
   },
   "outputs": [],
   "source": []
  }
 ],
 "metadata": {
  "application/vnd.databricks.v1+notebook": {
   "computePreferences": null,
   "dashboards": [],
   "environmentMetadata": {
    "base_environment": "",
    "environment_version": "2"
   },
   "inputWidgetPreferences": null,
   "language": "python",
   "notebookMetadata": {
    "pythonIndentUnit": 4
   },
   "notebookName": "05 ModelOps - Model Registry",
   "widgets": {}
  },
  "language_info": {
   "name": "python"
  }
 },
 "nbformat": 4,
 "nbformat_minor": 0
}