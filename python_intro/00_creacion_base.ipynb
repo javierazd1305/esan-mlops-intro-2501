{
 "cells": [
  {
   "cell_type": "code",
   "execution_count": 62,
   "metadata": {},
   "outputs": [],
   "source": [
    "import warnings\n",
    "warnings.filterwarnings('ignore')\n",
    "import pandas as pd"
   ]
  },
  {
   "cell_type": "code",
   "execution_count": 63,
   "metadata": {},
   "outputs": [],
   "source": [
    "ruta_base_cliente = '../input/base_cliente.parquet'\n",
    "ruta_base_trx = '../input/base_trx.parquet'\n",
    "ruta_base_atrinutos = '../input/base_atributos.parquet'"
   ]
  },
  {
   "cell_type": "code",
   "execution_count": 64,
   "metadata": {},
   "outputs": [],
   "source": [
    "df_cliente = pd.read_parquet(ruta_base_cliente)\n",
    "df_trx = pd.read_parquet(ruta_base_trx)\n",
    "df_atributos = pd.read_parquet(ruta_base_atrinutos)"
   ]
  },
  {
   "cell_type": "code",
   "execution_count": 65,
   "metadata": {},
   "outputs": [],
   "source": [
    "df_cliente = df_cliente.drop(columns=['periodo'])"
   ]
  },
  {
   "cell_type": "code",
   "execution_count": 66,
   "metadata": {},
   "outputs": [],
   "source": [
    "df = df_trx.merge(df_cliente, on=['id_cliente'], how='left')\n",
    "df = df.merge(df_atributos, on=['periodo', 'id_cliente'], how=\"left\")"
   ]
  },
  {
   "cell_type": "code",
   "execution_count": 67,
   "metadata": {},
   "outputs": [
    {
     "name": "stdout",
     "output_type": "stream",
     "text": [
      "1403815 1403815\n"
     ]
    }
   ],
   "source": [
    "print(df_trx.shape[0], df.shape[0])"
   ]
  },
  {
   "cell_type": "code",
   "execution_count": 68,
   "metadata": {},
   "outputs": [],
   "source": [
    "df = df[(df['flg_churn']== 0) | (df['flg_churn']== 1)]"
   ]
  },
  {
   "cell_type": "code",
   "execution_count": 69,
   "metadata": {},
   "outputs": [],
   "source": [
    "df = df[~df['tasa'].isnull()]\n",
    "df = df[~df['periodo_creacion'].isnull()]\n",
    "df = df[~df['tipo_producto'].isnull()]\n",
    "df = df[~df['segmento_pago'].isnull()]\n",
    "df = df[~df['canal'].isnull()]\n",
    "df = df[~df['segmento_cliente'].isnull()]\n",
    "df = df[~df['crossell'].isnull()]\n",
    "df = df[~df['departamento'].isnull()]"
   ]
  },
  {
   "cell_type": "code",
   "execution_count": 70,
   "metadata": {},
   "outputs": [
    {
     "data": {
      "text/plain": [
       "ultima_compra_2m     53510\n",
       "ultima_compra_3m     77959\n",
       "incidencias_a       352342\n",
       "incidencias_b       302146\n",
       "dtype: int64"
      ]
     },
     "execution_count": 70,
     "metadata": {},
     "output_type": "execute_result"
    }
   ],
   "source": [
    "df.isnull().sum()[df.isnull().sum()>0]"
   ]
  },
  {
   "cell_type": "code",
   "execution_count": 71,
   "metadata": {},
   "outputs": [],
   "source": [
    "df['flg_churn'] = df['flg_churn'].astype(int)\n",
    "df['segmento_cliente'] = df['segmento_cliente'].astype(int)"
   ]
  },
  {
   "cell_type": "code",
   "execution_count": 72,
   "metadata": {},
   "outputs": [],
   "source": [
    "df.to_parquet('../input/base.parquet')"
   ]
  },
  {
   "cell_type": "code",
   "execution_count": null,
   "metadata": {},
   "outputs": [],
   "source": []
  }
 ],
 "metadata": {
  "kernelspec": {
   "display_name": ".venv",
   "language": "python",
   "name": "python3"
  },
  "language_info": {
   "codemirror_mode": {
    "name": "ipython",
    "version": 3
   },
   "file_extension": ".py",
   "mimetype": "text/x-python",
   "name": "python",
   "nbconvert_exporter": "python",
   "pygments_lexer": "ipython3",
   "version": "3.12.3"
  }
 },
 "nbformat": 4,
 "nbformat_minor": 2
}
