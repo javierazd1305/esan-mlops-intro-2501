{
 "cells": [
  {
   "cell_type": "markdown",
   "metadata": {},
   "source": [
    "## Importar librerias"
   ]
  },
  {
   "cell_type": "code",
   "execution_count": 1,
   "metadata": {},
   "outputs": [],
   "source": [
    "import warnings\n",
    "warnings.filterwarnings('ignore')\n",
    "import pandas as pd\n",
    "from sklearn.model_selection import train_test_split\n",
    "import xgboost as xgb\n",
    "from sklearn.metrics import classification_report, roc_auc_score, accuracy_score\n",
    "from sklearn.ensemble import RandomForestClassifier"
   ]
  },
  {
   "cell_type": "markdown",
   "metadata": {},
   "source": [
    "## Leer base"
   ]
  },
  {
   "cell_type": "code",
   "execution_count": 2,
   "metadata": {},
   "outputs": [],
   "source": [
    "base_modelo = \"../input/base_modelo.parquet\""
   ]
  },
  {
   "cell_type": "code",
   "execution_count": 3,
   "metadata": {},
   "outputs": [],
   "source": [
    "df = pd.read_parquet(base_modelo)"
   ]
  },
  {
   "cell_type": "code",
   "execution_count": 4,
   "metadata": {},
   "outputs": [
    {
     "data": {
      "text/html": [
       "<div>\n",
       "<style scoped>\n",
       "    .dataframe tbody tr th:only-of-type {\n",
       "        vertical-align: middle;\n",
       "    }\n",
       "\n",
       "    .dataframe tbody tr th {\n",
       "        vertical-align: top;\n",
       "    }\n",
       "\n",
       "    .dataframe thead th {\n",
       "        text-align: right;\n",
       "    }\n",
       "</style>\n",
       "<table border=\"1\" class=\"dataframe\">\n",
       "  <thead>\n",
       "    <tr style=\"text-align: right;\">\n",
       "      <th></th>\n",
       "      <th>periodo</th>\n",
       "      <th>id_cliente</th>\n",
       "      <th>tasa</th>\n",
       "      <th>monto_1m</th>\n",
       "      <th>monto_2m</th>\n",
       "      <th>monto_3m</th>\n",
       "      <th>monto_4m</th>\n",
       "      <th>monto_5m</th>\n",
       "      <th>monto_6m</th>\n",
       "      <th>cantidad_1m</th>\n",
       "      <th>...</th>\n",
       "      <th>segmento_1</th>\n",
       "      <th>segmento_2</th>\n",
       "      <th>segmento_3</th>\n",
       "      <th>segmento_4</th>\n",
       "      <th>segmento_5</th>\n",
       "      <th>segmento_6</th>\n",
       "      <th>segmento_7</th>\n",
       "      <th>segmento_8</th>\n",
       "      <th>segmento_9</th>\n",
       "      <th>segmento_10</th>\n",
       "    </tr>\n",
       "  </thead>\n",
       "  <tbody>\n",
       "    <tr>\n",
       "      <th>16</th>\n",
       "      <td>202402</td>\n",
       "      <td>2</td>\n",
       "      <td>0.0344</td>\n",
       "      <td>7.817021</td>\n",
       "      <td>-16.118096</td>\n",
       "      <td>8.383090</td>\n",
       "      <td>8.793536</td>\n",
       "      <td>9.185740</td>\n",
       "      <td>7.697121</td>\n",
       "      <td>3.806662</td>\n",
       "      <td>...</td>\n",
       "      <td>0</td>\n",
       "      <td>0</td>\n",
       "      <td>1</td>\n",
       "      <td>0</td>\n",
       "      <td>0</td>\n",
       "      <td>0</td>\n",
       "      <td>0</td>\n",
       "      <td>0</td>\n",
       "      <td>0</td>\n",
       "      <td>0</td>\n",
       "    </tr>\n",
       "    <tr>\n",
       "      <th>17</th>\n",
       "      <td>202403</td>\n",
       "      <td>2</td>\n",
       "      <td>0.0344</td>\n",
       "      <td>5.150397</td>\n",
       "      <td>7.817021</td>\n",
       "      <td>-16.118096</td>\n",
       "      <td>8.383090</td>\n",
       "      <td>8.793536</td>\n",
       "      <td>9.185740</td>\n",
       "      <td>1.098612</td>\n",
       "      <td>...</td>\n",
       "      <td>0</td>\n",
       "      <td>0</td>\n",
       "      <td>1</td>\n",
       "      <td>0</td>\n",
       "      <td>0</td>\n",
       "      <td>0</td>\n",
       "      <td>0</td>\n",
       "      <td>0</td>\n",
       "      <td>0</td>\n",
       "      <td>0</td>\n",
       "    </tr>\n",
       "    <tr>\n",
       "      <th>18</th>\n",
       "      <td>202404</td>\n",
       "      <td>2</td>\n",
       "      <td>0.0344</td>\n",
       "      <td>9.188453</td>\n",
       "      <td>5.150397</td>\n",
       "      <td>7.817021</td>\n",
       "      <td>-16.118096</td>\n",
       "      <td>8.383090</td>\n",
       "      <td>8.793536</td>\n",
       "      <td>5.236442</td>\n",
       "      <td>...</td>\n",
       "      <td>0</td>\n",
       "      <td>0</td>\n",
       "      <td>1</td>\n",
       "      <td>0</td>\n",
       "      <td>0</td>\n",
       "      <td>0</td>\n",
       "      <td>0</td>\n",
       "      <td>0</td>\n",
       "      <td>0</td>\n",
       "      <td>0</td>\n",
       "    </tr>\n",
       "    <tr>\n",
       "      <th>19</th>\n",
       "      <td>202405</td>\n",
       "      <td>2</td>\n",
       "      <td>0.0344</td>\n",
       "      <td>9.099744</td>\n",
       "      <td>9.188453</td>\n",
       "      <td>5.150397</td>\n",
       "      <td>7.817021</td>\n",
       "      <td>-16.118096</td>\n",
       "      <td>8.383090</td>\n",
       "      <td>5.181784</td>\n",
       "      <td>...</td>\n",
       "      <td>0</td>\n",
       "      <td>0</td>\n",
       "      <td>1</td>\n",
       "      <td>0</td>\n",
       "      <td>0</td>\n",
       "      <td>0</td>\n",
       "      <td>0</td>\n",
       "      <td>0</td>\n",
       "      <td>0</td>\n",
       "      <td>0</td>\n",
       "    </tr>\n",
       "    <tr>\n",
       "      <th>35</th>\n",
       "      <td>202401</td>\n",
       "      <td>4</td>\n",
       "      <td>0.0344</td>\n",
       "      <td>7.431596</td>\n",
       "      <td>8.457210</td>\n",
       "      <td>8.055475</td>\n",
       "      <td>7.840706</td>\n",
       "      <td>7.498039</td>\n",
       "      <td>8.083637</td>\n",
       "      <td>4.110874</td>\n",
       "      <td>...</td>\n",
       "      <td>0</td>\n",
       "      <td>0</td>\n",
       "      <td>1</td>\n",
       "      <td>0</td>\n",
       "      <td>0</td>\n",
       "      <td>0</td>\n",
       "      <td>0</td>\n",
       "      <td>0</td>\n",
       "      <td>0</td>\n",
       "      <td>0</td>\n",
       "    </tr>\n",
       "  </tbody>\n",
       "</table>\n",
       "<p>5 rows × 43 columns</p>\n",
       "</div>"
      ],
      "text/plain": [
       "    periodo  id_cliente    tasa  monto_1m   monto_2m   monto_3m   monto_4m  \\\n",
       "16   202402           2  0.0344  7.817021 -16.118096   8.383090   8.793536   \n",
       "17   202403           2  0.0344  5.150397   7.817021 -16.118096   8.383090   \n",
       "18   202404           2  0.0344  9.188453   5.150397   7.817021 -16.118096   \n",
       "19   202405           2  0.0344  9.099744   9.188453   5.150397   7.817021   \n",
       "35   202401           4  0.0344  7.431596   8.457210   8.055475   7.840706   \n",
       "\n",
       "     monto_5m  monto_6m  cantidad_1m  ...  segmento_1  segmento_2  segmento_3  \\\n",
       "16   9.185740  7.697121     3.806662  ...           0           0           1   \n",
       "17   8.793536  9.185740     1.098612  ...           0           0           1   \n",
       "18   8.383090  8.793536     5.236442  ...           0           0           1   \n",
       "19 -16.118096  8.383090     5.181784  ...           0           0           1   \n",
       "35   7.498039  8.083637     4.110874  ...           0           0           1   \n",
       "\n",
       "    segmento_4  segmento_5  segmento_6  segmento_7  segmento_8  segmento_9  \\\n",
       "16           0           0           0           0           0           0   \n",
       "17           0           0           0           0           0           0   \n",
       "18           0           0           0           0           0           0   \n",
       "19           0           0           0           0           0           0   \n",
       "35           0           0           0           0           0           0   \n",
       "\n",
       "    segmento_10  \n",
       "16            0  \n",
       "17            0  \n",
       "18            0  \n",
       "19            0  \n",
       "35            0  \n",
       "\n",
       "[5 rows x 43 columns]"
      ]
     },
     "execution_count": 4,
     "metadata": {},
     "output_type": "execute_result"
    }
   ],
   "source": [
    "df.head()"
   ]
  },
  {
   "cell_type": "code",
   "execution_count": 5,
   "metadata": {},
   "outputs": [
    {
     "data": {
      "text/plain": [
       "Index(['periodo', 'id_cliente', 'tasa', 'monto_1m', 'monto_2m', 'monto_3m',\n",
       "       'monto_4m', 'monto_5m', 'monto_6m', 'cantidad_1m', 'cantidad_2m',\n",
       "       'cantidad_3m', 'cantidad_6m', 'frecuencia_1m', 'frecuencia_2m',\n",
       "       'frecuencia_3m', 'ultima_compra_1m', 'ultima_compra_2m',\n",
       "       'ultima_compra_3m', 'flg_churn', 'periodo_creacion', 'departamento',\n",
       "       'segmento_pago', 'canal', 'crossell', 'tiempo_permanencia', 'flg_vip',\n",
       "       'incidencias_a', 'incidencias_b', 'tipo_producto_producto_a',\n",
       "       'tipo_producto_producto_b', 'tipo_producto_producto_c', 'segmento_0',\n",
       "       'segmento_1', 'segmento_2', 'segmento_3', 'segmento_4', 'segmento_5',\n",
       "       'segmento_6', 'segmento_7', 'segmento_8', 'segmento_9', 'segmento_10'],\n",
       "      dtype='object')"
      ]
     },
     "execution_count": 5,
     "metadata": {},
     "output_type": "execute_result"
    }
   ],
   "source": [
    "df.columns"
   ]
  },
  {
   "cell_type": "markdown",
   "metadata": {},
   "source": [
    "## Entrenar hiperparametros - Linea base"
   ]
  },
  {
   "cell_type": "code",
   "execution_count": 6,
   "metadata": {},
   "outputs": [],
   "source": [
    "# Separar las características y el objetivo\n",
    "X = df[['periodo_creacion', 'flg_vip', 'tipo_producto_producto_a', 'tipo_producto_producto_b', 'tipo_producto_producto_c', 'monto_1m', 'monto_2m', 'monto_3m', \n",
    "        'cantidad_1m', 'cantidad_2m', 'cantidad_3m',\n",
    "        'ultima_compra_1m', 'crossell']]  # Características\n",
    "y = df['flg_churn']  # Variable objetivo\n",
    "\n",
    "# Realizar el train-test split estratificado\n",
    "X_train, X_test, y_train, y_test = train_test_split(\n",
    "    X, y, \n",
    "    test_size=0.3,  # 30% para el conjunto de prueba\n",
    "    stratify=y,  # Estratificación por la variable objetivo\n",
    "    random_state=42  # Semilla para reproducibilidad\n",
    ")"
   ]
  },
  {
   "cell_type": "markdown",
   "metadata": {},
   "source": [
    "## Entrenar modelos - Linea base"
   ]
  },
  {
   "cell_type": "code",
   "execution_count": 22,
   "metadata": {},
   "outputs": [],
   "source": [
    "def entrenar_xgboost_rapido(X_train, X_test, y_train, y_test):\n",
    "    \"\"\"\n",
    "    Entrena un modelo XGBoost para un problema de clasificación binaria utilizando\n",
    "    parámetros óptimos previamente obtenidos.\n",
    "    \"\"\"\n",
    "    # Parámetros óptimos (reemplaza con los que obtuviste en el GridSearch)\n",
    "    parametros_optimos = {\n",
    "        'objective': 'binary:logistic',\n",
    "        'eval_metric': 'logloss',\n",
    "        'use_label_encoder': False,\n",
    "        'n_estimators': 100,\n",
    "        'max_depth': 5,\n",
    "        'learning_rate': 0.1,\n",
    "        'subsample': 0.8,\n",
    "        'colsample_bytree': 1,\n",
    "        'random_state': 42\n",
    "    }\n",
    "    \n",
    "    # Crear y entrenar el modelo\n",
    "    xgb_model = xgb.XGBClassifier(**parametros_optimos)\n",
    "    xgb_model.fit(X_train, y_train)\n",
    "    \n",
    "    # Predicciones\n",
    "    y_pred = xgb_model.predict(X_test)\n",
    "    y_pred_prob = xgb_model.predict_proba(X_test)[:, 1]\n",
    "    \n",
    "    # Evaluar el modelo\n",
    "    print(\"\\nReporte de clasificación:\")\n",
    "    print(classification_report(y_test, y_pred))\n",
    "    print(f\"AUC-ROC: {roc_auc_score(y_test, y_pred_prob):.4f}\")\n",
    "    print(f\"Accuracy: {accuracy_score(y_test, y_pred):.4f}\")\n",
    "    \n",
    "    return xgb_model"
   ]
  },
  {
   "cell_type": "code",
   "execution_count": 23,
   "metadata": {},
   "outputs": [],
   "source": [
    "def entrenar_random_forest_rapido(X_train, X_test, y_train, y_test):\n",
    "    \"\"\"\n",
    "    Entrena un modelo Random Forest para un problema de clasificación binaria utilizando\n",
    "    parámetros óptimos previamente obtenidos.\n",
    "    \"\"\"\n",
    "    # Parámetros óptimos (reemplaza con los que obtuviste en el GridSearch)\n",
    "    parametros_optimos = {\n",
    "        'n_estimators': 100,\n",
    "        'max_depth': 10,\n",
    "        'min_samples_split': 5,\n",
    "        'min_samples_leaf': 2,\n",
    "        'max_features': 'sqrt',\n",
    "        'random_state': 42,\n",
    "        'n_jobs': -1\n",
    "    }\n",
    "    \n",
    "    # Crear y entrenar el modelo\n",
    "    rf_model = RandomForestClassifier(**parametros_optimos)\n",
    "    rf_model.fit(X_train, y_train)\n",
    "    \n",
    "    # Predicciones\n",
    "    y_pred = rf_model.predict(X_test)\n",
    "    y_pred_prob = rf_model.predict_proba(X_test)[:, 1]\n",
    "    \n",
    "    # Evaluar el modelo\n",
    "    print(\"\\nReporte de clasificación:\")\n",
    "    print(classification_report(y_test, y_pred))\n",
    "    print(f\"AUC-ROC: {roc_auc_score(y_test, y_pred_prob):.4f}\")\n",
    "    print(f\"Accuracy: {accuracy_score(y_test, y_pred):.4f}\")\n",
    "    \n",
    "    return rf_model"
   ]
  },
  {
   "cell_type": "code",
   "execution_count": 24,
   "metadata": {},
   "outputs": [
    {
     "name": "stdout",
     "output_type": "stream",
     "text": [
      "\n",
      "Reporte de clasificación:\n",
      "              precision    recall  f1-score   support\n",
      "\n",
      "           0       0.90      0.98      0.94    101158\n",
      "           1       0.63      0.22      0.33     13696\n",
      "\n",
      "    accuracy                           0.89    114854\n",
      "   macro avg       0.77      0.60      0.64    114854\n",
      "weighted avg       0.87      0.89      0.87    114854\n",
      "\n",
      "AUC-ROC: 0.8875\n",
      "Accuracy: 0.8918\n"
     ]
    }
   ],
   "source": [
    "modelo_final_randomforest = entrenar_random_forest_rapido(X_train, X_test, y_train, y_test)"
   ]
  },
  {
   "cell_type": "code",
   "execution_count": 25,
   "metadata": {},
   "outputs": [
    {
     "name": "stdout",
     "output_type": "stream",
     "text": [
      "\n",
      "Reporte de clasificación:\n",
      "              precision    recall  f1-score   support\n",
      "\n",
      "           0       0.91      0.98      0.94    101158\n",
      "           1       0.60      0.28      0.38     13696\n",
      "\n",
      "    accuracy                           0.89    114854\n",
      "   macro avg       0.76      0.63      0.66    114854\n",
      "weighted avg       0.87      0.89      0.87    114854\n",
      "\n",
      "AUC-ROC: 0.8897\n",
      "Accuracy: 0.8922\n"
     ]
    }
   ],
   "source": [
    "modelo_final = entrenar_xgboost_rapido(X_train, X_test, y_train, y_test)"
   ]
  },
  {
   "cell_type": "code",
   "execution_count": null,
   "metadata": {},
   "outputs": [],
   "source": []
  }
 ],
 "metadata": {
  "kernelspec": {
   "display_name": ".venv",
   "language": "python",
   "name": "python3"
  },
  "language_info": {
   "codemirror_mode": {
    "name": "ipython",
    "version": 3
   },
   "file_extension": ".py",
   "mimetype": "text/x-python",
   "name": "python",
   "nbconvert_exporter": "python",
   "pygments_lexer": "ipython3",
   "version": "3.12.3"
  }
 },
 "nbformat": 4,
 "nbformat_minor": 2
}
